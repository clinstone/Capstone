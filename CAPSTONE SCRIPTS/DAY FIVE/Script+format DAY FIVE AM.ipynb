{
 "cells": [
  {
   "cell_type": "code",
   "execution_count": 1,
   "metadata": {
    "collapsed": true
   },
   "outputs": [],
   "source": [
    "import numpy as np\n",
    "import pandas as pd\n",
    "import matplotlib.pyplot as plt\n",
    "%matplotlib inline\n",
    "\n",
    "from sklearn.ensemble import RandomForestClassifier, RandomForestRegressor\n",
    "from sklearn.model_selection import cross_val_score, train_test_split, GridSearchCV\n",
    "from sklearn.metrics import confusion_matrix, accuracy_score, mean_squared_error, roc_auc_score, roc_curve, auc"
   ]
  },
  {
   "cell_type": "code",
   "execution_count": 2,
   "metadata": {
    "collapsed": true
   },
   "outputs": [],
   "source": [
    "df = pd.read_csv('/home/ubuntu/MIMICmaterialized/oasis.csv')\n",
    "\n",
    "# Create dataframe with icustay_id and icustay_expire_flag\n",
    "df_flag = df[['icustay_id', 'icustay_age_group','icustay_expire_flag']].copy()"
   ]
  },
  {
   "cell_type": "code",
   "execution_count": 17,
   "metadata": {
    "collapsed": true
   },
   "outputs": [],
   "source": [
    "\n",
    "qsofa = pd.read_csv('/home/ubuntu/MIMICmaterialized/qsofa.csv')\n",
    "sirs = pd.read_csv('/home/ubuntu/MIMICmaterialized/sirs.csv')\n",
    "saps = pd.read_csv('/home/ubuntu/MIMICmaterialized/saps.csv')\n",
    "lods = pd.read_csv('/home/ubuntu/MIMICmaterialized/lods.csv')"
   ]
  },
  {
   "cell_type": "code",
   "execution_count": null,
   "metadata": {
    "collapsed": true
   },
   "outputs": [],
   "source": [
    "\n",
    "\n"
   ]
  },
  {
   "cell_type": "code",
   "execution_count": 32,
   "metadata": {},
   "outputs": [
    {
     "name": "stdout",
     "output_type": "stream",
     "text": [
      "<class 'pandas.core.frame.DataFrame'>\n",
      "RangeIndex: 61532 entries, 0 to 61531\n",
      "Data columns (total 7 columns):\n",
      "subject_id        61532 non-null int64\n",
      "hadm_id           61532 non-null int64\n",
      "icustay_id        61532 non-null int64\n",
      "qsofa             61532 non-null int64\n",
      "sysbp_score       52254 non-null float64\n",
      "gcs_score         52143 non-null float64\n",
      "resprate_score    52229 non-null float64\n",
      "dtypes: float64(3), int64(4)\n",
      "memory usage: 3.3 MB\n"
     ]
    }
   ],
   "source": [
    "qsofa.info()"
   ]
  },
  {
   "cell_type": "code",
   "execution_count": 5,
   "metadata": {},
   "outputs": [
    {
     "name": "stdout",
     "output_type": "stream",
     "text": [
      "Accuracy score: 0.917\n",
      "AUROC: 0.656\n",
      "SMR: inf\n",
      "Brier Score: 0.0744\n"
     ]
    },
    {
     "name": "stderr",
     "output_type": "stream",
     "text": [
      "/home/ubuntu/anaconda3/lib/python3.6/site-packages/ipykernel_launcher.py:43: RuntimeWarning: divide by zero encountered in long_scalars\n"
     ]
    }
   ],
   "source": [
    "# Merge two dataframes on icustay_id\t\n",
    "sirs_merged = sirs.merge(df_flag, on='icustay_id')\n",
    "\n",
    "# keep only adult cases\n",
    "sirs_adult = sirs_merged.loc[sirs_merged['icustay_age_group'] == 'adult']\n",
    "\n",
    "# DECIDE ABOUT DROPPING NULL VALUES AND INSERT HERE\n",
    "sirs_adult_dropped = sirs_adult.dropna().copy()\n",
    "\n",
    "# create dataframe based on computed scores\n",
    "sirs_final = sirs_adult_dropped[['temp_score', 'heartrate_score', 'resp_score', 'wbc_score',  \\\n",
    "                                 'icustay_expire_flag']].copy()\n",
    "\n",
    "# create target variable\n",
    "y_sirs = sirs_final.pop('icustay_expire_flag')\n",
    "\n",
    "# create X variable\n",
    "X_sirs = sirs_final.copy()\n",
    "\n",
    "# train-test split\t\n",
    "X_train_sirs, X_test_sirs, y_train_sirs, y_test_sirs = train_test_split(X_sirs, y_sirs, \n",
    "                                                test_size=.33,\n",
    "                                                random_state=0,\n",
    "                                               stratify=y_sirs)\n",
    "# Train and fit model                                                   \n",
    "rf_sirs = RandomForestClassifier(n_estimators = 300, random_state=0,n_jobs=-1)\n",
    "\n",
    "rf_sirs.fit(X_train_sirs, y_train_sirs)\n",
    "\n",
    "# Test Prediction\n",
    "pred_sirs = rf_sirs.predict(X_test_sirs)\n",
    "print('Accuracy score: {:.3}'.format(rf_sirs.score(X_test_sirs, y_test_sirs)))\n",
    "\n",
    "# Get predicted probabilites \t\n",
    "y_predict_proba_sirs = rf_sirs.predict_proba(X_test_sirs)\n",
    "\n",
    "# Get predicted probabilites of 1 (Death)\n",
    "y_proba_sirs = y_predict_proba_sirs[:,1]\n",
    "\n",
    "# Get AUROC score\n",
    "print('AUROC: {:.3}'.format(roc_auc_score(y_test_sirs, y_proba_sirs)))\n",
    "\n",
    "# Calculate Standard Mortality Rate (SMR) \n",
    "SMR_sirs = sum(y_test_sirs)/sum(pred_sirs)\n",
    "print('SMR: {:.3}'.format(SMR_sirs))\n",
    "# (different way) print('SMR: {:.3}'.format(sum(y_test)/sum(pred)))\n",
    "\n",
    "# Calculate Brier score\n",
    "difference_sirs = y_proba_sirs - y_test_sirs\n",
    "squared_sirs = np.square(difference_sirs)\n",
    "Brier_sirs = np.mean(squared_sirs)\n",
    "print('Brier Score: {:.3}'.format(Brier_sirs))\n",
    "# (different way) print('Brier Score: {:.3}'.format(np.mean(np.square(y_proba - y_test))))\n",
    "\n",
    "\n",
    "\n",
    "\n",
    "\n",
    "\n",
    "# calculate the fpr and tpr for all thresholds of the classification\n",
    "\n",
    "fpr_sirs, tpr_sirs, threshold = roc_curve(y_test_sirs, y_proba_sirs)\n",
    "roc_auc_sirs = auc(fpr_sirs, tpr_sirs)\n",
    "\n",
    "\n"
   ]
  },
  {
   "cell_type": "code",
   "execution_count": 31,
   "metadata": {},
   "outputs": [
    {
     "name": "stdout",
     "output_type": "stream",
     "text": [
      "SAPS\n",
      "Accuracy score: 0.922\n",
      "AUROC: 0.818\n",
      "SMR: 2.86\n",
      "Brier Score: 0.0634\n"
     ]
    }
   ],
   "source": [
    "print(\"SAPS\")\n",
    "\n",
    "# Merge two dataframes on icustay_id\t\n",
    "saps_merged = saps.merge(df_flag, on='icustay_id')\n",
    "\n",
    "# keep only adult cases\n",
    "saps_adult = saps_merged.loc[saps_merged['icustay_age_group'] == 'adult']\n",
    "\n",
    "# DECIDE ABOUT DROPPING NULL VALUES AND INSERT HERE\n",
    "saps_adult_dropped = saps_adult.dropna().copy()\n",
    "\n",
    "# create dataframe based on computed scores\n",
    "saps_final = saps_adult_dropped[['age_score', 'hr_score', 'resp_score', 'sysbp_score',  \\\n",
    "\t\t\t\t'temp_score', 'uo_score', 'vent_score', 'bun_score', \\\n",
    "\t\t\t\t'hematocrit_score', 'wbc_score', 'glucose_score', 'potassium_score', \\\n",
    "\t\t\t\t'sodium_score', 'bicarbonate_score', 'gcs_score', \\\n",
    "                                 'icustay_expire_flag']].copy()\n",
    "\n",
    "# create target variable\n",
    "y_saps = saps_final.pop('icustay_expire_flag')\n",
    "\n",
    "# create X variable\n",
    "X_saps = saps_final.copy()\n",
    "\n",
    "# train-test split\t\n",
    "X_train_saps, X_test_saps, y_train_saps, y_test_saps = train_test_split(X_saps, y_saps, \n",
    "                                                test_size=.33,\n",
    "                                                random_state=0,\n",
    "                                               stratify=y_saps)\n",
    "# Train and fit model                                                   \n",
    "rf_saps = RandomForestClassifier(n_estimators = 300, random_state=0,n_jobs=-1)\n",
    "\n",
    "rf_saps.fit(X_train_saps, y_train_saps)\n",
    "\n",
    "# Test Prediction\n",
    "pred_saps = rf_saps.predict(X_test_saps)\n",
    "print('Accuracy score: {:.3}'.format(rf_saps.score(X_test_saps, y_test_saps)))\n",
    "\n",
    "# Get predicted probabilites \t\n",
    "y_predict_proba_saps = rf_saps.predict_proba(X_test_saps)\n",
    "\n",
    "# Get predicted probabilites of 1 (Death)\n",
    "y_proba_saps = y_predict_proba_saps[:,1]\n",
    "\n",
    "# Get AUROC score\n",
    "print('AUROC: {:.3}'.format(roc_auc_score(y_test_saps, y_proba_saps)))\n",
    "\n",
    "# Calculate Standard Mortality Rate (SMR) \n",
    "SMR_saps = sum(y_test_saps)/sum(pred_saps)\n",
    "print('SMR: {:.3}'.format(SMR_saps))\n",
    "# (different way) print('SMR: {:.3}'.format(sum(y_test)/sum(pred)))\n",
    "\n",
    "# Calculate Brier score\n",
    "difference_saps = y_proba_saps - y_test_saps\n",
    "squared_saps = np.square(difference_saps)\n",
    "Brier_saps = np.mean(squared_saps)\n",
    "print('Brier Score: {:.3}'.format(Brier_saps))\n",
    "# (different way) print('Brier Score: {:.3}'.format(np.mean(np.square(y_proba - y_test))))\n",
    "\n",
    "\n",
    "\n",
    "\n",
    "\n",
    "\n",
    "# calculate the fpr and tpr for all thresholds of the classification\n",
    "\n",
    "fpr_saps, tpr_saps, threshold = roc_curve(y_test_saps, y_proba_saps)\n",
    "roc_auc_saps = auc(fpr_saps, tpr_saps)\n"
   ]
  },
  {
   "cell_type": "code",
   "execution_count": 18,
   "metadata": {},
   "outputs": [
    {
     "name": "stdout",
     "output_type": "stream",
     "text": [
      "Accuracy score: 0.922\n",
      "AUROC: 0.793\n",
      "SMR: 4.01\n",
      "Brier Score: 0.0644\n"
     ]
    }
   ],
   "source": [
    "# Merge two dataframes on icustay_id\t\n",
    "lods_merged = lods.merge(df_flag, on='icustay_id')\n",
    "\n",
    "# keep only adult cases\n",
    "lods_adult = lods_merged.loc[lods_merged['icustay_age_group'] == 'adult']\n",
    "\n",
    "# DECIDE ABOUT DROPPING NULL VALUES AND INSERT HERE\n",
    "lods_adult_dropped = lods_adult.dropna().copy()\n",
    "\n",
    "# create dataframe based on computed scores\n",
    "lods_final = lods_adult_dropped[['neurologic','cardiovascular','renal','pulmonary','hematologic',\\\n",
    "                         'hepatic', 'icustay_expire_flag']].copy()\n",
    "\n",
    "# create target variable\n",
    "y_lods = lods_final.pop('icustay_expire_flag')\n",
    "\n",
    "# create X variable\n",
    "X_lods = lods_final.copy()\n",
    "\n",
    "# train-test split\t\n",
    "X_train_lods, X_test_lods, y_train_lods, y_test_lods = train_test_split(X_lods, y_lods, \n",
    "                                                test_size=.33,\n",
    "                                                random_state=0,\n",
    "                                               stratify=y_lods)\n",
    "# Train and fit model                                                   \n",
    "rf_lods = RandomForestClassifier(n_estimators = 300, random_state=0,n_jobs=-1)\n",
    "\n",
    "rf_lods.fit(X_train_lods, y_train_lods)\n",
    "\n",
    "# Test Prediction\n",
    "pred_lods = rf_lods.predict(X_test_lods)\n",
    "print('Accuracy score: {:.3}'.format(rf_lods.score(X_test_lods, y_test_lods)))\n",
    "\n",
    "# Get predicted probabilites \t\n",
    "y_predict_proba_lods = rf_lods.predict_proba(X_test_lods)\n",
    "\n",
    "# Get predicted probabilites of 1 (Death)\n",
    "y_proba_lods = y_predict_proba_lods[:,1]\n",
    "\n",
    "# Get AUROC score\n",
    "print('AUROC: {:.3}'.format(roc_auc_score(y_test_lods, y_proba_lods)))\n",
    "\n",
    "# Calculate Standard Mortality Rate (SMR) \n",
    "SMR_lods = sum(y_test_lods)/sum(pred_lods)\n",
    "print('SMR: {:.3}'.format(SMR_lods))\n",
    "# (different way) print('SMR: {:.3}'.format(sum(y_test)/sum(pred)))\n",
    "\n",
    "# Calculate Brier score\n",
    "difference_lods = y_proba_lods - y_test_lods\n",
    "squared_lods = np.square(difference_lods)\n",
    "Brier_lods = np.mean(squared_lods)\n",
    "print('Brier Score: {:.3}'.format(Brier_lods))\n",
    "# (different way) print('Brier Score: {:.3}'.format(np.mean(np.square(y_proba - y_test))))\n",
    "\n",
    "\n",
    "\n",
    "\n",
    "\n",
    "\n",
    "# calculate the fpr and tpr for all thresholds of the classification\n",
    "\n",
    "fpr_lods, tpr_lods, threshold = roc_curve(y_test_lods, y_proba_lods)\n",
    "roc_auc_lods = auc(fpr_lods, tpr_lods)\n"
   ]
  },
  {
   "cell_type": "code",
   "execution_count": 36,
   "metadata": {},
   "outputs": [],
   "source": [
    "# Merge two dataframes on icustay_id\t\n",
    "lodsYsaps = lods.merge(df_flag, on='icustay_id')"
   ]
  },
  {
   "cell_type": "code",
   "execution_count": 37,
   "metadata": {
    "collapsed": true
   },
   "outputs": [],
   "source": [
    "lodsYsaps_merged = lodsYsaps.merge(saps, on='icustay_id')"
   ]
  },
  {
   "cell_type": "code",
   "execution_count": 42,
   "metadata": {},
   "outputs": [
    {
     "name": "stdout",
     "output_type": "stream",
     "text": [
      "Accuracy score: 0.924\n",
      "AUROC: 0.844\n",
      "SMR: 3.19\n",
      "Brier Score: 0.0608\n"
     ]
    }
   ],
   "source": [
    "\n",
    "# keep only adult cases\n",
    "lodsYsaps_adult = lodsYsaps_merged.loc[lodsYsaps_merged['icustay_age_group'] == 'adult']\n",
    "\n",
    "# DECIDE ABOUT DROPPING NULL VALUES AND INSERT HERE\n",
    "lodsYsaps_adult_dropped = lodsYsaps_adult.dropna().copy()\n",
    "\n",
    "# create dataframe based on computed scores\n",
    "lodsYsaps_final = lodsYsaps_adult_dropped[['neurologic','cardiovascular','renal','pulmonary','hematologic',\n",
    "                         'hepatic', 'age_score', 'hr_score', 'resp_score', 'sysbp_score',  \n",
    "\t\t\t\t'temp_score', 'uo_score', 'vent_score', 'bun_score', \n",
    "\t\t\t\t'hematocrit_score', 'wbc_score', 'glucose_score', 'potassium_score', \n",
    "\t\t\t\t'sodium_score', 'bicarbonate_score', 'gcs_score', 'icustay_expire_flag']].copy()\n",
    "\n",
    "# create target variable\n",
    "y_lodsYsaps = lodsYsaps_final.pop('icustay_expire_flag')\n",
    "\n",
    "# create X variable\n",
    "X_lodsYsaps = lodsYsaps_final.copy()\n",
    "\n",
    "# train-test split\t\n",
    "X_train_lodsYsaps, X_test_lodsYsaps, y_train_lodsYsaps, y_test_lodsYsaps = train_test_split(X_lodsYsaps, \\\n",
    "                                                y_lodsYsaps, \n",
    "                                                test_size=.33,\n",
    "                                                random_state=0,\n",
    "                                               stratify=y_lodsYsaps)\n",
    "# Train and fit model                                                   \n",
    "rf_lodsYsaps = RandomForestClassifier(n_estimators = 300, random_state=0,n_jobs=-1)\n",
    "\n",
    "rf_lodsYsaps.fit(X_train_lodsYsaps, y_train_lodsYsaps)\n",
    "\n",
    "# Test Prediction\n",
    "pred_lodsYsaps = rf_lodsYsaps.predict(X_test_lodsYsaps)\n",
    "print('Accuracy score: {:.3}'.format(rf_lodsYsaps.score(X_test_lodsYsaps, y_test_lodsYsaps)))\n",
    "\n",
    "# Get predicted probabilites \t\n",
    "y_predict_proba_lodsYsaps = rf_lodsYsaps.predict_proba(X_test_lodsYsaps)\n",
    "\n",
    "# Get predicted probabilites of 1 (Death)\n",
    "y_proba_lodsYsaps = y_predict_proba_lodsYsaps[:,1]\n",
    "\n",
    "# Get AUROC score\n",
    "print('AUROC: {:.3}'.format(roc_auc_score(y_test_lodsYsaps, y_proba_lodsYsaps)))\n",
    "\n",
    "# Calculate Standard Mortality Rate (SMR) \n",
    "SMR_lodsYsaps = sum(y_test_lodsYsaps)/sum(pred_lodsYsaps)\n",
    "print('SMR: {:.3}'.format(SMR_lodsYsaps))\n",
    "# (different way) print('SMR: {:.3}'.format(sum(y_test)/sum(pred)))\n",
    "\n",
    "# Calculate Brier score\n",
    "difference_lodsYsaps = y_proba_lodsYsaps - y_test_lodsYsaps\n",
    "squared_lodsYsaps = np.square(difference_lodsYsaps)\n",
    "Brier_lodsYsaps = np.mean(squared_lodsYsaps)\n",
    "print('Brier Score: {:.3}'.format(Brier_lodsYsaps))\n",
    "# (different way) print('Brier Score: {:.3}'.format(np.mean(np.square(y_proba - y_test))))\n",
    "\n",
    "\n",
    "\n",
    "\n",
    "\n",
    "\n",
    "# calculate the fpr and tpr for all thresholds of the classification\n",
    "\n",
    "fpr_lodsYsaps, tpr_lodsYsaps, threshold = roc_curve(y_test_lodsYsaps, y_proba_lodsYsaps)\n",
    "roc_auc_lodsYsaps = auc(fpr_lodsYsaps, tpr_lodsYsaps)\n"
   ]
  },
  {
   "cell_type": "code",
   "execution_count": 33,
   "metadata": {},
   "outputs": [
    {
     "name": "stdout",
     "output_type": "stream",
     "text": [
      "Accuracy score: 0.917\n",
      "AUROC: 0.613\n",
      "SMR: inf\n",
      "Brier Score: 0.0754\n"
     ]
    },
    {
     "name": "stderr",
     "output_type": "stream",
     "text": [
      "/home/ubuntu/anaconda3/lib/python3.6/site-packages/ipykernel_launcher.py:43: RuntimeWarning: divide by zero encountered in long_scalars\n"
     ]
    }
   ],
   "source": [
    "# Merge two dataframes on icustay_id\t\n",
    "qsofa_merged = qsofa.merge(df_flag, on='icustay_id')\n",
    "\n",
    "# keep only adult cases\n",
    "qsofa_adult = qsofa_merged.loc[qsofa_merged['icustay_age_group'] == 'adult']\n",
    "\n",
    "# DECIDE ABOUT DROPPING NULL VALUES AND INSERT HERE\n",
    "qsofa_adult_dropped = qsofa_adult.dropna().copy()\n",
    "\n",
    "# create dataframe based on computed scores\n",
    "qsofa_final = qsofa_adult_dropped[['sysbp_score','gcs_score','resprate_score', 'icustay_expire_flag']].copy()\n",
    "\n",
    "# create target variable\n",
    "y_qsofa = qsofa_final.pop('icustay_expire_flag')\n",
    "\n",
    "# create X variable\n",
    "X_qsofa = qsofa_final.copy()\n",
    "\n",
    "# train-test split\t\n",
    "X_train_qsofa, X_test_qsofa, y_train_qsofa, y_test_qsofa = train_test_split(X_qsofa, y_qsofa, \n",
    "                                                test_size=.33,\n",
    "                                                random_state=0,\n",
    "                                               stratify=y_qsofa)\n",
    "# Train and fit model                                                   \n",
    "rf_qsofa = RandomForestClassifier(n_estimators = 300, random_state=0,n_jobs=-1)\n",
    "\n",
    "rf_qsofa.fit(X_train_qsofa, y_train_qsofa)\n",
    "\n",
    "# Test Prediction\n",
    "pred_qsofa = rf_qsofa.predict(X_test_qsofa)\n",
    "print('Accuracy score: {:.3}'.format(rf_qsofa.score(X_test_qsofa, y_test_qsofa)))\n",
    "\n",
    "# Get predicted probabilites \t\n",
    "y_predict_proba_qsofa = rf_qsofa.predict_proba(X_test_qsofa)\n",
    "\n",
    "# Get predicted probabilites of 1 (Death)\n",
    "y_proba_qsofa = y_predict_proba_qsofa[:,1]\n",
    "\n",
    "# Get AUROC score\n",
    "print('AUROC: {:.3}'.format(roc_auc_score(y_test_qsofa, y_proba_qsofa)))\n",
    "\n",
    "# Calculate Standard Mortality Rate (SMR) \n",
    "SMR_qsofa = sum(y_test_qsofa)/sum(pred_qsofa)\n",
    "print('SMR: {:.3}'.format(SMR_qsofa))\n",
    "# (different way) print('SMR: {:.3}'.format(sum(y_test)/sum(pred)))\n",
    "\n",
    "# Calculate Brier score\n",
    "difference_qsofa = y_proba_qsofa - y_test_qsofa\n",
    "squared_qsofa = np.square(difference_qsofa)\n",
    "Brier_qsofa = np.mean(squared_qsofa)\n",
    "print('Brier Score: {:.3}'.format(Brier_qsofa))\n",
    "# (different way) print('Brier Score: {:.3}'.format(np.mean(np.square(y_proba - y_test))))\n",
    "\n",
    "\n",
    "\n",
    "\n",
    "\n",
    "\n",
    "# calculate the fpr and tpr for all thresholds of the classification\n",
    "\n",
    "fpr_qsofa, tpr_qsofa, threshold = roc_curve(y_test_qsofa, y_proba_qsofa)\n",
    "roc_auc_qsofa = auc(fpr_qsofa, tpr_qsofa)\n"
   ]
  },
  {
   "cell_type": "code",
   "execution_count": 44,
   "metadata": {},
   "outputs": [
    {
     "data": {
      "image/png": "[encoded data removed]",
      "text/plain": [
       "<matplotlib.figure.Figure at 0x7ff63cf6be80>"
      ]
     },
     "metadata": {},
     "output_type": "display_data"
    }
   ],
   "source": [
    "# Plot ROC curves\n",
    "\n",
    "plt.title('Receiver Operating Characteristic')\n",
    "\n",
    "# plt.plot(fpr, tpr, 'b', label = 'AUC_OASIS = %0.3f' % roc_auc)\n",
    "plt.plot(fpr_sirs, tpr_sirs, 'g', label = 'AUC_SIRS = %0.3f' % roc_auc_sirs)\n",
    "plt.plot(fpr_saps, tpr_saps, 'b', label = 'AUC_SAPS = %0.3f' % roc_auc_saps)\n",
    "plt.plot(fpr_lods, tpr_lods, 'r', label = 'AUC_LODS = %0.3f' % roc_auc_lods)\n",
    "plt.plot(fpr_lodsYsaps, tpr_lodsYsaps, 'y', label = 'AUC_LODS_SAPS = %0.3f' % roc_auc_lodsYsaps)\n",
    "\n",
    "plt.legend(loc = 'lower right')\n",
    "plt.plot([0, 1], [0, 1],'r--')\n",
    "plt.xlim([0, 1])\n",
    "plt.ylim([0, 1])\n",
    "plt.ylabel('True Positive Rate')\n",
    "plt.xlabel('False Positive Rate')\n",
    "plt.show()"
   ]
  },
  {
   "cell_type": "code",
   "execution_count": 9,
   "metadata": {},
   "outputs": [],
   "source": [
    "n = ['a', 'b', 'c']\n",
    "for i in n:\n",
    "        globals()['variable_{}'.format(i)] = 0\n"
   ]
  },
  {
   "cell_type": "code",
   "execution_count": null,
   "metadata": {
    "collapsed": true
   },
   "outputs": [],
   "source": []
  },
  {
   "cell_type": "code",
   "execution_count": null,
   "metadata": {
    "collapsed": true
   },
   "outputs": [],
   "source": []
  },
  {
   "cell_type": "code",
   "execution_count": null,
   "metadata": {},
   "outputs": [],
   "source": []
  }
 ],
 "metadata": {
  "kernelspec": {
   "display_name": "Python 3",
   "language": "python",
   "name": "python3"
  },
  "language_info": {
   "codemirror_mode": {
    "name": "ipython",
    "version": 3
   },
   "file_extension": ".py",
   "mimetype": "text/x-python",
   "name": "python",
   "nbconvert_exporter": "python",
   "pygments_lexer": "ipython3",
   "version": "3.6.3"
  }
 },
 "nbformat": 4,
 "nbformat_minor": 2
}
